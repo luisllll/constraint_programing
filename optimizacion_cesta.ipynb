{
 "cells": [
  {
   "cell_type": "markdown",
   "metadata": {},
   "source": [
    "# EJERCICIO DEL CONTEO DE SOLDADOS #"
   ]
  },
  {
   "cell_type": "markdown",
   "metadata": {},
   "source": [
    "## OBJETIVO: ADIVINAR LOS SOLDADOS DEL EJERCITO ENEMIGO ##"
   ]
  },
  {
   "cell_type": "code",
   "execution_count": 1,
   "metadata": {},
   "outputs": [],
   "source": [
    "from ortools.sat.python import cp_model"
   ]
  },
  {
   "cell_type": "code",
   "execution_count": 2,
   "metadata": {},
   "outputs": [],
   "source": [
    "# iNSTANCIAR MODLEO Y SOLVER\n",
    "model = cp_model.CpModel()\n",
    "solver = cp_model.CpSolver()"
   ]
  },
  {
   "cell_type": "markdown",
   "metadata": {},
   "source": [
    "Condicionantes:\n",
    "- Scout 1: \"el numero de soldados es múltiplo de 13\";\n",
    "- Scout 2: \"el numero de soldados es múltiplo de 19\";\n",
    "- Scout 3: \"el numero de soldados es múltiplo de 37\";\n",
    "Todos están de acuerdo en que el ejército enemigo no pasa de 10,000.\n"
   ]
  },
  {
   "cell_type": "code",
   "execution_count": 3,
   "metadata": {},
   "outputs": [],
   "source": [
    "#DECLARABMOS LA VARIABLE: ejercito (minimo 1, maximo 10000)\n",
    "army = model.NewIntVar(1, 10000, 'army')"
   ]
  },
  {
   "cell_type": "code",
   "execution_count": 4,
   "metadata": {},
   "outputs": [
    {
     "data": {
      "text/plain": [
       "<ortools.sat.python.cp_model.Constraint at 0x20f806cbf80>"
      ]
     },
     "execution_count": 4,
     "metadata": {},
     "output_type": "execute_result"
    }
   ],
   "source": [
    "# DECLARAMOS LOS CONSTRAINTS:\n",
    "model.AddModuloEquality(0, army, 13)\n",
    "model.AddModuloEquality(0, army, 19)\n",
    "model.AddModuloEquality(0, army, 37)"
   ]
  },
  {
   "cell_type": "code",
   "execution_count": 5,
   "metadata": {},
   "outputs": [],
   "source": [
    "# lE DAMOS LA ORDEN AL SOLVER DE QUE RESUELVA EL MODELO\n",
    "status = solver.Solve(model)"
   ]
  },
  {
   "cell_type": "code",
   "execution_count": 6,
   "metadata": {},
   "outputs": [
    {
     "name": "stdout",
     "output_type": "stream",
     "text": [
      "================= Solution =================\n",
      "Solved in 0.03 milliseconds\n",
      "\n",
      "🪖 Army = 9139\n",
      "\n",
      "Check solution:\n",
      " - Constraint 1: 9139 % 13 = 0\n",
      " - Constraint 2: 9139 % 19 = 0\n",
      " - Constraint 3: 9139 % 37 = 0\n"
     ]
    }
   ],
   "source": [
    "# IMPRIMIMOS EL RESULTADO (uno solo de los posibles)\n",
    "if status == cp_model.OPTIMAL or status == cp_model.FEASIBLE:\n",
    "    print('================= Solution =================')\n",
    "    print(f'Solved in {solver.WallTime():.2f} milliseconds')\n",
    "    print()\n",
    "    print(f'🪖 Army = {solver.Value(army)}')\n",
    "    print()\n",
    "    print('Check solution:')\n",
    "    print(f' - Constraint 1: {solver.Value(army)} % 13 = {solver.Value(army) % 13}')\n",
    "    print(f' - Constraint 2: {solver.Value(army)} % 19 = {solver.Value(army) % 19}')\n",
    "    print(f' - Constraint 3: {solver.Value(army)} % 37 = {solver.Value(army) % 37}')\n",
    "\n",
    "else:\n",
    "    print('The solver could not find a solution.')"
   ]
  },
  {
   "cell_type": "code",
   "execution_count": 7,
   "metadata": {},
   "outputs": [
    {
     "name": "stdout",
     "output_type": "stream",
     "text": [
      "9139\n",
      "18278\n",
      "27417\n",
      "36556\n",
      "45695\n",
      "54834\n",
      "63973\n",
      "73112\n",
      "82251\n",
      "91390\n"
     ]
    }
   ],
   "source": [
    "# OBTENER TODOS LOS POSIBLES RESULTDOS\n",
    "model = cp_model.CpModel()\n",
    "solver = cp_model.CpSolver()\n",
    "\n",
    "# 1. Variable\n",
    "army = model.NewIntVar(1, 100000, 'army')\n",
    "\n",
    "# 2. Constraints\n",
    "model.AddModuloEquality(0, army, 13)\n",
    "model.AddModuloEquality(0, army, 19)\n",
    "model.AddModuloEquality(0, army, 37)\n",
    "\n",
    "\n",
    "class PrintSolutions(cp_model.CpSolverSolutionCallback):\n",
    "    \"\"\"Callback to print every solution.\"\"\"\n",
    "\n",
    "    def __init__(self, variable):\n",
    "        cp_model.CpSolverSolutionCallback.__init__(self)\n",
    "        self.__variable = variable\n",
    "\n",
    "    def on_solution_callback(self):\n",
    "        print(self.Value(self.__variable))\n",
    "\n",
    "# Solve with callback\n",
    "solution_printer = PrintSolutions(army)\n",
    "solver.parameters.enumerate_all_solutions = True\n",
    "status = solver.Solve(model, solution_printer)"
   ]
  },
  {
   "cell_type": "markdown",
   "metadata": {},
   "source": [
    "# EJERCICIO DE OPTIMIZACIÓN #"
   ]
  },
  {
   "cell_type": "markdown",
   "metadata": {},
   "source": [
    "## OBJETIVO: OPTIMIZAR LISTA DE LA COMPRA ##"
   ]
  },
  {
   "cell_type": "markdown",
   "metadata": {},
   "source": [
    "Condicionantes:\n",
    "- espacio total = 19;\n",
    "- espacio pan = 1\";\n",
    "- espacio carne = 3;\n",
    "- esapcio cerveza= 7;\n",
    "- popularidad (pan, carne, cerveza)= 3,10,26;\n",
    "- espacio carne = 3;\n",
    "- Puede haber 0 de cada alimento, pero siempre menos de la capacidad total.\n",
    "- La suma de todos no puede excder la capacidad total.\n",
    "- queremos maximizar la popularidad de la cesta.\n"
   ]
  },
  {
   "cell_type": "code",
   "execution_count": 8,
   "metadata": {},
   "outputs": [],
   "source": [
    "# INSTANCIAR MODLEO Y SOLVER\n",
    "model = cp_model.CpModel()\n",
    "solver = cp_model.CpSolver()"
   ]
  },
  {
   "cell_type": "code",
   "execution_count": 9,
   "metadata": {},
   "outputs": [],
   "source": [
    "#DECLARO VARIABLES\n",
    "capacity = 19\n",
    "bread = model.NewIntVar(0, capacity, 'bread')\n",
    "meat  = model.NewIntVar(0, capacity, 'meat')\n",
    "beer  = model.NewIntVar(0, capacity, 'beer')"
   ]
  },
  {
   "cell_type": "code",
   "execution_count": 10,
   "metadata": {},
   "outputs": [
    {
     "data": {
      "text/plain": [
       "<ortools.sat.python.cp_model.Constraint at 0x20f80962ab0>"
      ]
     },
     "execution_count": 10,
     "metadata": {},
     "output_type": "execute_result"
    }
   ],
   "source": [
    "#DECLARO CONSTRAINTS\n",
    "model.Add(1 * bread\n",
    "        + 3 * meat \n",
    "        + 7 * beer <= capacity)"
   ]
  },
  {
   "cell_type": "code",
   "execution_count": 11,
   "metadata": {},
   "outputs": [],
   "source": [
    "# DECLARO LA FUNCION OBJETIVO\n",
    "model.Maximize(3  * bread\n",
    "             + 10 * meat\n",
    "             + 26 * beer)"
   ]
  },
  {
   "cell_type": "code",
   "execution_count": 12,
   "metadata": {},
   "outputs": [
    {
     "name": "stdout",
     "output_type": "stream",
     "text": [
      "================= Solution =================\n",
      "Solved in 0.02 milliseconds\n",
      "\n",
      "Optimal value = 68 popularity\n",
      "Food:\n",
      " - 🥖Bread = 2\n",
      " - 🥩Meat  = 1\n",
      " - 🍺Beer  = 2\n"
     ]
    }
   ],
   "source": [
    "# lE DAMOS LA ORDEN AL SOLVER DE QUE RESUELVA EL MODELO\n",
    "# Solve problem\n",
    "status = solver.Solve(model)\n",
    "\n",
    "# If an optimal solution has been found, print results\n",
    "if status == cp_model.OPTIMAL:\n",
    "    print('================= Solution =================')\n",
    "    print(f'Solved in {solver.WallTime():.2f} milliseconds')\n",
    "    print()\n",
    "    print(f'Optimal value = {3*solver.Value(bread)+10*solver.Value(meat)+26*solver.Value(beer)} popularity')\n",
    "    print('Food:')\n",
    "    print(f' - 🥖Bread = {solver.Value(bread)}')\n",
    "    print(f' - 🥩Meat  = {solver.Value(meat)}')\n",
    "    print(f' - 🍺Beer  = {solver.Value(beer)}')\n",
    "else:\n",
    "    print('The solver could not find an optimal solution.')"
   ]
  },
  {
   "cell_type": "code",
   "execution_count": null,
   "metadata": {},
   "outputs": [],
   "source": [
    "# SI QUEREMOS SABER CUANTAS SOLUCIONES HAY\n",
    "class CountSolutions(cp_model.CpSolverSolutionCallback):\n",
    "    \"\"\"Count the number of solutions.\"\"\"\n",
    "\n",
    "    def __init__(self):\n",
    "        cp_model.CpSolverSolutionCallback.__init__(self)\n",
    "        self.__solution_count = 0\n",
    "\n",
    "    def on_solution_callback(self):\n",
    "        self.__solution_count += 1\n",
    "\n",
    "    def solution_count(self):\n",
    "        return self.__solution_count\n",
    "\n",
    "solution_printer = CountSolutions()\n",
    "\n",
    "# Instantiate model and solver\n",
    "model = cp_model.CpModel()\n",
    "solver = cp_model.CpSolver()\n",
    "\n",
    "# 1. Variables\n",
    "capacity = 19\n",
    "\n",
    "bread = model.NewIntVar(0, capacity, 'Bread')\n",
    "meat  = model.NewIntVar(0, capacity, 'Meat')\n",
    "beer  = model.NewIntVar(0, capacity, 'Beer')\n",
    "\n",
    "# 2. Constraints\n",
    "model.Add(1 * bread\n",
    "        + 3 * meat \n",
    "        + 7 * beer <= capacity)\n",
    "\n",
    "# Print results\n",
    "solver.parameters.enumerate_all_solutions = True\n",
    "status = solver.Solve(model, solution_printer)\n",
    "print(solution_printer.solution_count())"
   ]
  }
 ],
 "metadata": {
  "kernelspec": {
   "display_name": "env_constraint",
   "language": "python",
   "name": "python3"
  },
  "language_info": {
   "codemirror_mode": {
    "name": "ipython",
    "version": 3
   },
   "file_extension": ".py",
   "mimetype": "text/x-python",
   "name": "python",
   "nbconvert_exporter": "python",
   "pygments_lexer": "ipython3",
   "version": "3.12.1"
  }
 },
 "nbformat": 4,
 "nbformat_minor": 2
}
