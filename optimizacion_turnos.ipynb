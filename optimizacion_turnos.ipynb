{
 "cells": [
  {
   "cell_type": "markdown",
   "metadata": {},
   "source": [
    "# PROBLEMA DEL TALLER #"
   ]
  },
  {
   "cell_type": "markdown",
   "metadata": {},
   "source": [
    "Cada trabajo consta de una secuencia de tareas, que se deben realizar en un orden determinado, y cada tarea debe procesarse en una máquina específica. Por ejemplo, el trabajo podría ser la fabricación de un solo artículo de consumo, como un automóvil. El problema es programar las tareas en las máquinas para minimizar el length del programa (el tiempo que lleva completar todos los trabajos)."
   ]
  },
  {
   "cell_type": "markdown",
   "metadata": {},
   "source": [
    "Existen varias limitaciones para el problema del taller de empleo:\n",
    "\n",
    "- No se puede iniciar ninguna tarea para un trabajo hasta que se complete la tarea anterior de ese trabajo.\n",
    "- Una máquina solo puede trabajar en una tarea a la vez.\n",
    "- Una vez iniciada, una tarea debe ejecutarse hasta completarse."
   ]
  },
  {
   "cell_type": "markdown",
   "metadata": {},
   "source": [
    "## PALNTEAMIENTO DEL PROBLEMA ##\n",
    "\n",
    "A continuación, se muestra un ejemplo simple de un problema de un taller de trabajo, en el que cada tarea está etiquetada con un par de números (m, p), donde m es la cantidad de máquina en la que se debe procesar la tarea y p es el tiempo de procesamiento de la tarea, la cantidad de tiempo que requiere. (La numeración de los trabajos y las máquinas comienza en 0).\n",
    "\n",
    "- trabajo 0 = [(0, 3), (1, 2), (2, 2)]\n",
    "- trabajo 1 = [(0, 2), (2, 1), (1, 4)]\n",
    "- trabajo 2 = [(1, 4), (2, 3)]\n",
    "\n",
    "En el ejemplo, el trabajo 0 tiene tres tareas. La primera, (0, 3), debe procesarse en la máquina 0 en 3 unidades de tiempo. La segunda, (1, 2), debe procesarse en la máquina 1 en 2 unidades de tiempo, y así sucesivamente. En total, hay ocho tareas.\n"
   ]
  },
  {
   "cell_type": "code",
   "execution_count": 1,
   "metadata": {},
   "outputs": [],
   "source": [
    "import collections\n",
    "from ortools.sat.python import cp_model"
   ]
  },
  {
   "cell_type": "code",
   "execution_count": 2,
   "metadata": {},
   "outputs": [],
   "source": [
    "jobs_data = [  # task = (machine_id, processing_time).\n",
    "    [(0, 3), (1, 2), (2, 2)],  # Job0\n",
    "    [(0, 2), (2, 1), (1, 4)],  # Job1\n",
    "    [(1, 4), (2, 3)],  # Job2\n",
    "]\n",
    "\n",
    "machines_count = 1 + max(task[0] for job in jobs_data for task in job)\n",
    "all_machines = range(machines_count)\n",
    "# Computes horizon dynamically as the sum of all durations.\n",
    "horizon = sum(task[1] for job in jobs_data for task in job)"
   ]
  },
  {
   "cell_type": "code",
   "execution_count": 3,
   "metadata": {},
   "outputs": [],
   "source": [
    "model = cp_model.CpModel()"
   ]
  },
  {
   "cell_type": "code",
   "execution_count": 4,
   "metadata": {},
   "outputs": [],
   "source": [
    "# Named tuple to store information about created variables.\n",
    "task_type = collections.namedtuple(\"task_type\", \"start end interval\")\n",
    "# Named tuple to manipulate solution information.\n",
    "assigned_task_type = collections.namedtuple(\n",
    "    \"assigned_task_type\", \"start job index duration\"\n",
    ")\n",
    "\n",
    "# Creates job intervals and add to the corresponding machine lists.\n",
    "all_tasks = {}\n",
    "machine_to_intervals = collections.defaultdict(list)\n",
    "\n",
    "for job_id, job in enumerate(jobs_data):\n",
    "    for task_id, task in enumerate(job):\n",
    "        machine, duration = task\n",
    "        suffix = f\"_{job_id}_{task_id}\"\n",
    "        start_var = model.NewIntVar(0, horizon, \"start\" + suffix)\n",
    "        end_var = model.NewIntVar(0, horizon, \"end\" + suffix)\n",
    "        interval_var = model.NewIntervalVar(\n",
    "            start_var, duration, end_var, \"interval\" + suffix\n",
    "        )\n",
    "        all_tasks[job_id, task_id] = task_type(\n",
    "            start=start_var, end=end_var, interval=interval_var\n",
    "        )\n",
    "        machine_to_intervals[machine].append(interval_var)"
   ]
  },
  {
   "cell_type": "code",
   "execution_count": 5,
   "metadata": {},
   "outputs": [],
   "source": [
    "# Create and add disjunctive constraints.\n",
    "for machine in all_machines:\n",
    "    model.AddNoOverlap(machine_to_intervals[machine])\n",
    "\n",
    "# Precedences inside a job.\n",
    "for job_id, job in enumerate(jobs_data):\n",
    "    for task_id in range(len(job) - 1):\n",
    "        model.Add(\n",
    "            all_tasks[job_id, task_id + 1].start >= all_tasks[job_id, task_id].end\n",
    "        )"
   ]
  },
  {
   "cell_type": "code",
   "execution_count": 6,
   "metadata": {},
   "outputs": [],
   "source": [
    "# Makespan objective.\n",
    "obj_var = model.NewIntVar(0, horizon, \"makespan\")\n",
    "model.AddMaxEquality(\n",
    "    obj_var,\n",
    "    [all_tasks[job_id, len(job) - 1].end for job_id, job in enumerate(jobs_data)],\n",
    ")\n",
    "model.Minimize(obj_var)"
   ]
  },
  {
   "cell_type": "code",
   "execution_count": 7,
   "metadata": {},
   "outputs": [
    {
     "ename": "NameError",
     "evalue": "name 'all_jobs' is not defined",
     "output_type": "error",
     "traceback": [
      "\u001b[1;31m---------------------------------------------------------------------------\u001b[0m",
      "\u001b[1;31mNameError\u001b[0m                                 Traceback (most recent call last)",
      "Cell \u001b[1;32mIn[7], line 3\u001b[0m\n\u001b[0;32m      1\u001b[0m model\u001b[38;5;241m.\u001b[39mAddMaxEquality(\n\u001b[0;32m      2\u001b[0m     obj_var,\n\u001b[1;32m----> 3\u001b[0m     [all_tasks[(job, \u001b[38;5;28mlen\u001b[39m(jobs_data[job]) \u001b[38;5;241m-\u001b[39m \u001b[38;5;241m1\u001b[39m)]\u001b[38;5;241m.\u001b[39mend \u001b[38;5;28;01mfor\u001b[39;00m job \u001b[38;5;129;01min\u001b[39;00m \u001b[43mall_jobs\u001b[49m])\n",
      "\u001b[1;31mNameError\u001b[0m: name 'all_jobs' is not defined"
     ]
    }
   ],
   "source": [
    "model.AddMaxEquality(\n",
    "    obj_var,\n",
    "    [all_tasks[(job, len(jobs_data[job]) - 1)].end for job in all_jobs])"
   ]
  },
  {
   "cell_type": "code",
   "execution_count": 8,
   "metadata": {},
   "outputs": [
    {
     "name": "stdout",
     "output_type": "stream",
     "text": [
      "Solution:\n",
      "Optimal Schedule Length: 11.0\n",
      "Machine 0: job_1_task_0   job_0_task_0   \n",
      "           [0,2]          [2,5]          \n",
      "Machine 1: job_2_task_0   job_0_task_1   job_1_task_2   \n",
      "           [0,4]          [5,7]          [7,11]         \n",
      "Machine 2: job_1_task_1   job_2_task_1   job_0_task_2   \n",
      "           [2,3]          [4,7]          [7,9]          \n",
      "\n",
      "\n",
      "Statistics\n",
      "  - conflicts: 0\n",
      "  - branches : 0\n",
      "  - wall time: 0.09345010000000001s\n"
     ]
    }
   ],
   "source": [
    "\"\"\"Minimal jobshop example.\"\"\"\n",
    "import collections\n",
    "from ortools.sat.python import cp_model\n",
    "\n",
    "\n",
    "def main():\n",
    "    \"\"\"Minimal jobshop problem.\"\"\"\n",
    "    # Data.\n",
    "    jobs_data = [  # task = (machine_id, processing_time).\n",
    "        [(0, 3), (1, 2), (2, 2)],  # Job0\n",
    "        [(0, 2), (2, 1), (1, 4)],  # Job1\n",
    "        [(1, 4), (2, 3)],  # Job2\n",
    "    ]\n",
    "\n",
    "    machines_count = 1 + max(task[0] for job in jobs_data for task in job)\n",
    "    all_machines = range(machines_count)\n",
    "    # Computes horizon dynamically as the sum of all durations.\n",
    "    horizon = sum(task[1] for job in jobs_data for task in job)\n",
    "\n",
    "    # Create the model.\n",
    "    model = cp_model.CpModel()\n",
    "\n",
    "    # Named tuple to store information about created variables.\n",
    "    task_type = collections.namedtuple(\"task_type\", \"start end interval\")\n",
    "    # Named tuple to manipulate solution information.\n",
    "    assigned_task_type = collections.namedtuple(\n",
    "        \"assigned_task_type\", \"start job index duration\"\n",
    "    )\n",
    "\n",
    "    # Creates job intervals and add to the corresponding machine lists.\n",
    "    all_tasks = {}\n",
    "    machine_to_intervals = collections.defaultdict(list)\n",
    "\n",
    "    for job_id, job in enumerate(jobs_data):\n",
    "        for task_id, task in enumerate(job):\n",
    "            machine, duration = task\n",
    "            suffix = f\"_{job_id}_{task_id}\"\n",
    "            start_var = model.NewIntVar(0, horizon, \"start\" + suffix)\n",
    "            end_var = model.NewIntVar(0, horizon, \"end\" + suffix)\n",
    "            interval_var = model.NewIntervalVar(\n",
    "                start_var, duration, end_var, \"interval\" + suffix\n",
    "            )\n",
    "            all_tasks[job_id, task_id] = task_type(\n",
    "                start=start_var, end=end_var, interval=interval_var\n",
    "            )\n",
    "            machine_to_intervals[machine].append(interval_var)\n",
    "\n",
    "    # Create and add disjunctive constraints.\n",
    "    for machine in all_machines:\n",
    "        model.AddNoOverlap(machine_to_intervals[machine])\n",
    "\n",
    "    # Precedences inside a job.\n",
    "    for job_id, job in enumerate(jobs_data):\n",
    "        for task_id in range(len(job) - 1):\n",
    "            model.Add(\n",
    "                all_tasks[job_id, task_id + 1].start >= all_tasks[job_id, task_id].end\n",
    "            )\n",
    "\n",
    "    # Makespan objective.\n",
    "    obj_var = model.NewIntVar(0, horizon, \"makespan\")\n",
    "    model.AddMaxEquality(\n",
    "        obj_var,\n",
    "        [all_tasks[job_id, len(job) - 1].end for job_id, job in enumerate(jobs_data)],\n",
    "    )\n",
    "    model.Minimize(obj_var)\n",
    "\n",
    "    # Creates the solver and solve.\n",
    "    solver = cp_model.CpSolver()\n",
    "    status = solver.Solve(model)\n",
    "\n",
    "    if status == cp_model.OPTIMAL or status == cp_model.FEASIBLE:\n",
    "        print(\"Solution:\")\n",
    "        # Create one list of assigned tasks per machine.\n",
    "        assigned_jobs = collections.defaultdict(list)\n",
    "        for job_id, job in enumerate(jobs_data):\n",
    "            for task_id, task in enumerate(job):\n",
    "                machine = task[0]\n",
    "                assigned_jobs[machine].append(\n",
    "                    assigned_task_type(\n",
    "                        start=solver.Value(all_tasks[job_id, task_id].start),\n",
    "                        job=job_id,\n",
    "                        index=task_id,\n",
    "                        duration=task[1],\n",
    "                    )\n",
    "                )\n",
    "\n",
    "        # Create per machine output lines.\n",
    "        output = \"\"\n",
    "        for machine in all_machines:\n",
    "            # Sort by starting time.\n",
    "            assigned_jobs[machine].sort()\n",
    "            sol_line_tasks = \"Machine \" + str(machine) + \": \"\n",
    "            sol_line = \"           \"\n",
    "\n",
    "            for assigned_task in assigned_jobs[machine]:\n",
    "                name = f\"job_{assigned_task.job}_task_{assigned_task.index}\"\n",
    "                # Add spaces to output to align columns.\n",
    "                sol_line_tasks += f\"{name:15}\"\n",
    "\n",
    "                start = assigned_task.start\n",
    "                duration = assigned_task.duration\n",
    "                sol_tmp = f\"[{start},{start + duration}]\"\n",
    "                # Add spaces to output to align columns.\n",
    "                sol_line += f\"{sol_tmp:15}\"\n",
    "\n",
    "            sol_line += \"\\n\"\n",
    "            sol_line_tasks += \"\\n\"\n",
    "            output += sol_line_tasks\n",
    "            output += sol_line\n",
    "\n",
    "        # Finally print the solution found.\n",
    "        print(f\"Optimal Schedule Length: {solver.ObjectiveValue()}\")\n",
    "        print(output)\n",
    "    else:\n",
    "        print(\"No solution found.\")\n",
    "\n",
    "    # Statistics.\n",
    "    print(\"\\nStatistics\")\n",
    "    print(f\"  - conflicts: {solver.NumConflicts()}\")\n",
    "    print(f\"  - branches : {solver.NumBranches()}\")\n",
    "    print(f\"  - wall time: {solver.WallTime()}s\")\n",
    "\n",
    "\n",
    "if __name__ == \"__main__\":\n",
    "    main()"
   ]
  }
 ],
 "metadata": {
  "kernelspec": {
   "display_name": "env_constraint",
   "language": "python",
   "name": "python3"
  },
  "language_info": {
   "codemirror_mode": {
    "name": "ipython",
    "version": 3
   },
   "file_extension": ".py",
   "mimetype": "text/x-python",
   "name": "python",
   "nbconvert_exporter": "python",
   "pygments_lexer": "ipython3",
   "version": "3.12.1"
  }
 },
 "nbformat": 4,
 "nbformat_minor": 2
}
